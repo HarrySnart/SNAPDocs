{
  "cells": [
    {
      "cell_type": "code",
      "source": [
        "from pyhive import hive\n",
        "from pprint import pprint\n",
        "import pandas as pd\n",
        "import os\n",
        "from altair import *\n",
        "\n",
        "import IPython.display\n",
        "def draw(spec):\n",
        "    IPython.display.display({\n",
        "        'application/vnd.vegalite.v1+json': spec.to_dict()\n",
        "    }, raw=True)\n",
        "\n",
        "pd.set_option('display.max_colwidth', -1) # dont truncate table columns\n",
        "cwd = os.getcwd()\n",
        "cwd=\"/data/shared/snap-samples/Redshift\"\n",
        "\n",
        "c = hive.Connection(host=\"0.0.0.0\",port=10000,auth='NOSASL')\n",
        "pd.read_sql('show tables',c)\n",
        "\n",
        "def sql(q, explain=False) :\n",
        "    # silly hack to handle filesystem prefix for us when creating local tables\n",
        "    if \"{prefix}\" in q:\n",
        "        q = q.replace('{prefix}',cwd)\n",
        "    df=pd.read_sql(q,c)\n",
        "    return df\n",
        "\n",
        "def explain(q):\n",
        "    df = sql(\"explain \" + q)\n",
        "    plan = df['plan'][0]\n",
        "    pprint(plan)\n",
        "    \n",
        "\nsql('show tables')"
      ],
      "outputs": [],
      "execution_count": 269,
      "metadata": {
        "collapsed": false,
        "outputHidden": false,
        "inputHidden": false
      }
    },
    {
      "cell_type": "code",
      "source": [
        "table_names = [\"users\",\"venue\",\"category\",\"ddate\",\"event\",\"listing\",\"sales\"]\n",
        "drop = \"\"\"\n",
        "drop table if exists {table_name}\n",
        "\"\"\"\n",
        "for table_name in table_names:\n",
        "    pd.read_sql(\n",
        "        drop.format(table_name=table_name)\n",
        "    ,c) "
      ],
      "outputs": [],
      "execution_count": 221,
      "metadata": {
        "collapsed": false,
        "outputHidden": false,
        "inputHidden": false
      }
    },
    {
      "cell_type": "code",
      "source": [
        "def snapsql(sql) :\n",
        "    df=pd.read_sql(sql,c)\n",
        "    return df"
      ],
      "outputs": [],
      "execution_count": 222,
      "metadata": {
        "collapsed": false,
        "outputHidden": false,
        "inputHidden": false
      }
    },
    {
      "cell_type": "code",
      "source": [
        "users = \"\"\"\n",
        "create table if not exists users (\n",
        "\tuserid integer ,\n",
        "\tusername string,\n",
        "\tfirstname string,\n",
        "\tlastname string,\n",
        "\tcity string,\n",
        "\tstate string,\n",
        "\temail string,\n",
        "\tphone string,\n",
        "\tlikesports string,\n",
        "\tliketheatre string,\n",
        "\tlikeconcerts string,\n",
        "\tlikejazz string,\n",
        "\tlikeclassical string,\n",
        "\tlikeopera string,\n",
        "\tlikerock string,\n",
        "\tlikevegas string,\n",
        "\tlikebroadway string,\n",
        "\tlikemusicals string)\n",
        "    using csv\n",
        "    options (path \"{prefix}/allusers_pipe.txt\", delimiter \"|\")\n",
        "\"\"\"\n",
        "sql(users)"
      ],
      "outputs": [],
      "execution_count": 223,
      "metadata": {
        "collapsed": false,
        "outputHidden": false,
        "inputHidden": false
      }
    },
    {
      "cell_type": "code",
      "source": [
        "venue = \"\"\"\n",
        "create table if not exists venue(\n",
        "\tvenueid integer,\n",
        "\tvenuename string,\n",
        "\tvenuecity string,\n",
        "\tvenuestate string,\n",
        "\tvenueseats integer)\n",
        "    using csv\n",
        "    options (path \"{prefix}/venue_pipe.txt\", delimiter \"|\")\n",
        "\"\"\"\n",
        "sql(venue)\n"
      ],
      "outputs": [],
      "execution_count": 224,
      "metadata": {
        "collapsed": false,
        "outputHidden": false,
        "inputHidden": false
      }
    },
    {
      "cell_type": "code",
      "source": [
        "category=\"\"\"\n",
        "create table if not exists category(\n",
        "\tcatid integer,\n",
        "\tcatgroup string,\n",
        "\tcatname string,\n",
        "\tcatdesc string)    \n",
        "    using csv\n",
        "    options (path \"{prefix}/category_pipe.txt\", delimiter \"|\")\n",
        "\"\"\"\n",
        "sql(category)"
      ],
      "outputs": [],
      "execution_count": 225,
      "metadata": {
        "collapsed": false,
        "outputHidden": false,
        "inputHidden": false
      }
    },
    {
      "cell_type": "code",
      "source": [
        "ddate = \"\"\"\n",
        "create table if not exists ddate(\n",
        "\tdateid integer ,\n",
        "\tcaldate date,\n",
        "\tday string,\n",
        "\tweek integer,\n",
        "\tmonth string,\n",
        "\tqtr string,\n",
        "\tyear integer,\n",
        "\tholiday string)    \n",
        "    using csv\n",
        "    options (path \"/data/shared/snap-samples/Redshift/date2008_pipe.txt\", delimiter \"|\")\n",
        "\"\"\"\n",
        "sql(ddate)"
      ],
      "outputs": [],
      "execution_count": 226,
      "metadata": {
        "collapsed": false,
        "outputHidden": false,
        "inputHidden": false
      }
    },
    {
      "cell_type": "code",
      "source": [
        "event = \"\"\"\n",
        "create table if not exists event(\n",
        "\teventid integer ,\n",
        "\tvenueid integer,\n",
        "\tcatid integer,\n",
        "\tdateid integer ,\n",
        "\teventname string,\n",
        "\tstarttime timestamp)    \n",
        "    using csv\n",
        "    options (path \"{prefix}/allevents_pipe.txt\", delimiter \"|\")\n",
        "\"\"\"\n",
        "sql(event)"
      ],
      "outputs": [],
      "execution_count": 227,
      "metadata": {
        "collapsed": false,
        "outputHidden": false,
        "inputHidden": false
      }
    },
    {
      "cell_type": "code",
      "source": [
        "listing = \"\"\"\n",
        "create table if not exists listing(\n",
        "\tlistid integer  ,\n",
        "\tsellerid integer ,\n",
        "\teventid integer ,\n",
        "\tdateid integer ,\n",
        "\tnumtickets integer ,\n",
        "\tpriceperticket decimal(8,2),\n",
        "\ttotalprice decimal(8,2),\n",
        "\tlisttime timestamp)    \n",
        "    using csv\n",
        "    options (path \"{prefix}/listings_pipe.txt\", delimiter \"|\")\n",
        "\"\"\"\n",
        "\nsql(listing)"
      ],
      "outputs": [],
      "execution_count": 228,
      "metadata": {
        "collapsed": false,
        "outputHidden": false,
        "inputHidden": false
      }
    },
    {
      "cell_type": "code",
      "source": [
        "sales = \"\"\"\n",
        "create table if not exists  sales(\n",
        "\tsalesid integer ,\n",
        "\tlistid integer,\n",
        "\tsellerid integer,\n",
        "\tbuyerid integer,\n",
        "\teventid integer,\n",
        "\tdateid integer,\n",
        "\tqtysold integer,\n",
        "\tpricepaid decimal(8,2),\n",
        "\tcommission decimal(8,2),\n",
        "\tsaletime timestamp)\n",
        "    using csv\n",
        "    options (\n",
        "        path \"{prefix}/sales_tab.txt\"\n",
        "        ,delimiter \"\\t\"\n",
        "        ,timestampFormat \"d/MM/yyyy HH:mm:ss\"\n",
        "        ,inferSchema \"true\"\n",
        "        )\n",
        "\"\"\"\n",
        "sql(sales)\n"
      ],
      "outputs": [],
      "execution_count": 229,
      "metadata": {
        "collapsed": false,
        "outputHidden": false,
        "inputHidden": false
      }
    },
    {
      "cell_type": "code",
      "source": [
        "query1 = \"\"\"\n",
        "SELECT sum(qtysold) \n",
        "FROM   sales as sales, ddate\n",
        "WHERE  sales.dateid = ddate.dateid \n",
        "AND    ddate.caldate = '2008-01-05'\n",
        "\"\"\"\n",
        "sql(query1)"
      ],
      "outputs": [],
      "execution_count": 230,
      "metadata": {
        "collapsed": false,
        "outputHidden": false,
        "inputHidden": false
      }
    },
    {
      "cell_type": "code",
      "source": [
        "query2 = \"\"\"\n",
        "SELECT firstname, lastname, total_quantity \n",
        "FROM   (SELECT buyerid, sum(qtysold) total_quantity\n",
        "        FROM  sales\n",
        "        GROUP BY buyerid\n",
        "        ORDER BY total_quantity desc limit 10) Q, users\n",
        "WHERE Q.buyerid = userid\n",
        "ORDER BY Q.total_quantity desc\n",
        "\"\"\"\n",
        "sql(query2)"
      ],
      "outputs": [],
      "execution_count": 231,
      "metadata": {
        "collapsed": false,
        "outputHidden": false,
        "inputHidden": false
      }
    },
    {
      "cell_type": "code",
      "source": [
        "create_star_schema = \"\"\"alter star schema on sales as\n",
        "many_to_one join of sales with listing on sales.listid = listing.listid\n",
        "many_to_one join of sales with event on sales.eventid = event.eventid\n",
        "many_to_one join of sales with ddate on sales.dateid = ddate.dateid\n",
        "many_to_one join of sales with users on sales.buyerid = users.userid\n",
        "many_to_one join of event with category on event.catid = category.catid\n",
        "many_to_one join of event with venue on event.venueid = venue.venueid\n",
        "\"\"\"\n",
        "sql(create_star_schema)"
      ],
      "outputs": [],
      "execution_count": 234,
      "metadata": {
        "collapsed": false,
        "outputHidden": false,
        "inputHidden": false
      }
    },
    {
      "cell_type": "code",
      "source": [
        "q=\"\"\" drop olap index salessnap on sales \"\"\"\n",
        "sql(q)"
      ],
      "outputs": [],
      "execution_count": 235,
      "metadata": {
        "collapsed": false,
        "outputHidden": false,
        "inputHidden": false
      }
    },
    {
      "cell_type": "code",
      "source": [
        "salessnap=\"\"\"\n",
        "\n",
        "create olap index salessnap on sales\n",
        "timestamp dimension starttime \n",
        "timestamp dimension listtime \n",
        "timestamp dimension saletime\n",
        "timestamp dimension caldate\n",
        "metric priceperticket aggregator doubleSum is nullable nullvalue \"0.0\" \n",
        "metric totalprice aggregator doubleSum is nullable nullvalue \"0.0\"\n",
        "metric numtickets aggregator longSum is nullable nullvalue \"0\"\n",
        "metric qtysold aggregator longSum is nullable nullvalue \"0\"\n",
        "metric pricepaid aggregator doubleSum is nullable nullvalue \"0.0\"\n",
        "metric commission aggregator doubleSum is nullable nullvalue \"0.0\"\n",
        "dimension holiday is not nullable \n",
        "dimensions \"username,city, state, likesports, liketheatre,likeconcerts, likejazz , \\\n",
        "likeclassical, likeopera, likerock, likevegas, likebroadway, likemusicals, \\\n",
        "venuename, venuecity, venuestate, catgroup, catname, catdesc \\\n",
        ", day, week, month, qtr, year, eventname , \\\n",
        "sales.eventid, sales.buyerid, sales.listid, sales.salesid\" \n",
        "\n",
        "OPTIONS (        \n",
        "    path \"/data/shared/snap-samples/Redshift/snap\",\n",
        "    avgSizePerPartition  \"40mb\",\n",
        "    avgNumRowsPerPartition \"10000\",\n",
        "    preferredSegmentSize \"20mb\",\n",
        "    rowFlushBoundary \"10000\",\n",
        "    defaultNullValue \"0\"\n",
        ")\n",
        "\"\"\"\n",
        "\nsql(salessnap)"
      ],
      "outputs": [
        {
          "output_type": "error",
          "ename": "NameError",
          "evalue": "name 'sql' is not defined",
          "traceback": [
            "\u001b[0;31m\u001b[0m",
            "\u001b[0;31mNameError\u001b[0mTraceback (most recent call last)",
            "\u001b[0;32m<ipython-input-1-3a785c73d1d5>\u001b[0m in \u001b[0;36m<module>\u001b[0;34m()\u001b[0m\n\u001b[1;32m     29\u001b[0m \"\"\"\n\u001b[1;32m     30\u001b[0m \u001b[0;34m\u001b[0m\u001b[0m\n\u001b[0;32m---> 31\u001b[0;31m \u001b[0msql\u001b[0m\u001b[0;34m(\u001b[0m\u001b[0msalessnap\u001b[0m\u001b[0;34m)\u001b[0m\u001b[0;34m\u001b[0m\u001b[0m\n\u001b[0m",
            "\u001b[0;31mNameError\u001b[0m: name 'sql' is not defined"
          ]
        }
      ],
      "execution_count": 1,
      "metadata": {
        "collapsed": false,
        "outputHidden": false,
        "inputHidden": false
      }
    },
    {
      "cell_type": "code",
      "source": [
        "insert=\"\"\" insert overwrite olap index salessnap of sales \"\"\"\n",
        "\nsql(insert)"
      ],
      "outputs": [],
      "execution_count": 237,
      "metadata": {
        "collapsed": false,
        "outputHidden": false,
        "inputHidden": false
      }
    },
    {
      "cell_type": "code",
      "source": [
        "q1=\"\"\" select count(*) from sales  limit 15 \"\"\"\n",
        "sql(q1)"
      ],
      "outputs": [],
      "execution_count": 247,
      "metadata": {
        "collapsed": false,
        "outputHidden": false,
        "inputHidden": false
      }
    },
    {
      "cell_type": "code",
      "source": [
        "sq1=\"\"\" \n",
        "\n",
        "SELECT SUM(`sales`.`qtysold`) AS `sum_qtysold_ok`, \n",
        "COUNT(1) AS `x__alias__0` \n",
        "FROM `default`.`sales` `sales` \n",
        "  JOIN `default`.`users` `users` ON (`sales`.`buyerid` = `users`.`userid`) \n",
        "  JOIN `default`.`event` `event` ON (`sales`.`eventid` = `event`.`eventid`) \n",
        "  JOIN `default`.`listing` `listing` ON (`sales`.`listid` = `listing`.`listid`) \n",
        "  JOIN `default`.`ddate` `ddate` ON (`sales`.`dateid` = `ddate`.`dateid`) \n",
        "  JOIN `default`.`category` `category` ON (`event`.`catid` = `category`.`catid`) \n",
        "  JOIN `default`.`venue` `venue` ON (`event`.`venueid` = `venue`.`venueid`) \n",
        "  HAVING (COUNT(1) > 0)\n",
        "\n\"\"\""
      ],
      "outputs": [],
      "execution_count": 248,
      "metadata": {
        "collapsed": false,
        "outputHidden": false,
        "inputHidden": false
      }
    },
    {
      "cell_type": "code",
      "source": [
        "sql(sq1)"
      ],
      "outputs": [],
      "execution_count": 249,
      "metadata": {
        "collapsed": false,
        "outputHidden": false,
        "inputHidden": false
      }
    },
    {
      "cell_type": "code",
      "source": [
        "t10=\"\"\"\n",
        "select  sales.eventid, sum(sales.pricepaid) \n",
        "from sales, event\n",
        "where sales.eventid = event.eventid\n",
        "and sales.pricepaid > 30\n",
        "group by sales.eventid\n",
        "order by 2 desc\n",
        "limit 10\n",
        "\"\"\"\n",
        "snapsql(t10)"
      ],
      "outputs": [],
      "execution_count": 250,
      "metadata": {
        "collapsed": false,
        "outputHidden": false,
        "inputHidden": false
      }
    },
    {
      "cell_type": "code",
      "source": [
        "sportsandjazz = \"\"\"\n",
        "create or replace view sportsandjazz as \n",
        "select * from salessnap where likesports=\"TRUE\" and likejazz=\"TRUE\"\n",
        "\"\"\"\n",
        "snapsql(sportsandjazz)"
      ],
      "outputs": [],
      "execution_count": 251,
      "metadata": {
        "collapsed": false,
        "outputHidden": false,
        "inputHidden": false
      }
    },
    {
      "cell_type": "code",
      "source": [
        "\n",
        "q=\"\"\"\n",
        "select count(*) from sportsandjazz\n",
        "\"\"\"\n",
        "snapsql(q)"
      ],
      "outputs": [
        {
          "output_type": "error",
          "ename": "NameError",
          "evalue": "name 'snapsql' is not defined",
          "traceback": [
            "\u001b[0;31m\u001b[0m",
            "\u001b[0;31mNameError\u001b[0mTraceback (most recent call last)",
            "\u001b[0;32m<ipython-input-2-9f2517117e62>\u001b[0m in \u001b[0;36m<module>\u001b[0;34m()\u001b[0m\n\u001b[1;32m      3\u001b[0m \u001b[0mselect\u001b[0m \u001b[0mcount\u001b[0m\u001b[0;34m(\u001b[0m\u001b[0;34m*\u001b[0m\u001b[0;34m)\u001b[0m \u001b[0;32mfrom\u001b[0m \u001b[0msportsandjazz\u001b[0m\u001b[0;34m\u001b[0m\u001b[0m\n\u001b[1;32m      4\u001b[0m \"\"\"\n\u001b[0;32m----> 5\u001b[0;31m \u001b[0msnapsql\u001b[0m\u001b[0;34m(\u001b[0m\u001b[0mq\u001b[0m\u001b[0;34m)\u001b[0m\u001b[0;34m\u001b[0m\u001b[0m\n\u001b[0m",
            "\u001b[0;31mNameError\u001b[0m: name 'snapsql' is not defined"
          ]
        }
      ],
      "execution_count": 2,
      "metadata": {
        "collapsed": false,
        "outputHidden": false,
        "inputHidden": false
      }
    },
    {
      "cell_type": "code",
      "source": [
        "snapsql(\"\"\" select count(*) from users \"\"\")"
      ],
      "outputs": [],
      "execution_count": 170,
      "metadata": {
        "collapsed": false,
        "outputHidden": false,
        "inputHidden": false
      }
    },
    {
      "cell_type": "code",
      "source": [
        "q=\"\"\"\n",
        "with allusers AS ( \n",
        "select caldate adate, city,sum(qtysold) q, sum(pricepaid) p \n",
        "from salessnap group by caldate,city)\n",
        ",\n",
        "someusers AS (\n",
        "select caldate sdate,city, sum(qtysold) a, sum(pricepaid) b \n",
        "from salessnap where likeconcerts='TRUE' AND likejazz='TRUE' group by caldate,city)\n",
        "\n",
        "select adate,allusers.city, a, b, round(a/q,2)*100 qratio , round(b/p,2)*100 pratio\n",
        "from allusers, someusers where adate=sdate order by pratio desc limit 5000\n",
        "\"\"\"\n"
      ],
      "outputs": [],
      "execution_count": 278,
      "metadata": {
        "collapsed": false,
        "outputHidden": false,
        "inputHidden": false
      }
    },
    {
      "cell_type": "code",
      "source": [
        "df=sql(q)"
      ],
      "outputs": [
        {
          "output_type": "error",
          "ename": "DatabaseError",
          "evalue": "Execution failed on sql: \nwith allusers AS ( \nselect caldate adate, city,sum(qtysold) q, sum(pricepaid) p \nfrom salessnap group by caldate,city)\n,\nsomeusers AS (\nselect caldate sdate,city, sum(qtysold) a, sum(pricepaid) b \nfrom salessnap where likeconcerts='TRUE' AND likejazz='TRUE' group by caldate,city)\n\nselect adate,allusers.city, a, b, round(a/q,2)*100 qratio , round(b/p,2)*100 pratio\nfrom allusers, someusers where adate=sdate order by pratio desc \n\nTSocket read 0 bytes\nunable to rollback",
          "traceback": [
            "\u001b[0;31m\u001b[0m",
            "\u001b[0;31mDatabaseError\u001b[0mTraceback (most recent call last)",
            "\u001b[0;32m<ipython-input-279-6dc13896cdff>\u001b[0m in \u001b[0;36m<module>\u001b[0;34m()\u001b[0m\n\u001b[0;32m----> 1\u001b[0;31m \u001b[0mdf\u001b[0m\u001b[0;34m=\u001b[0m\u001b[0msql\u001b[0m\u001b[0;34m(\u001b[0m\u001b[0mq\u001b[0m\u001b[0;34m)\u001b[0m\u001b[0;34m\u001b[0m\u001b[0m\n\u001b[0m",
            "\u001b[0;32m<ipython-input-269-8a334b133c5b>\u001b[0m in \u001b[0;36msql\u001b[0;34m(q, explain)\u001b[0m\n\u001b[1;32m     22\u001b[0m     \u001b[0;32mif\u001b[0m \u001b[0;34m\"{prefix}\"\u001b[0m \u001b[0;32min\u001b[0m \u001b[0mq\u001b[0m\u001b[0;34m:\u001b[0m\u001b[0;34m\u001b[0m\u001b[0m\n\u001b[1;32m     23\u001b[0m         \u001b[0mq\u001b[0m \u001b[0;34m=\u001b[0m \u001b[0mq\u001b[0m\u001b[0;34m.\u001b[0m\u001b[0mreplace\u001b[0m\u001b[0;34m(\u001b[0m\u001b[0;34m'{prefix}'\u001b[0m\u001b[0;34m,\u001b[0m\u001b[0mcwd\u001b[0m\u001b[0;34m)\u001b[0m\u001b[0;34m\u001b[0m\u001b[0m\n\u001b[0;32m---> 24\u001b[0;31m     \u001b[0mdf\u001b[0m\u001b[0;34m=\u001b[0m\u001b[0mpd\u001b[0m\u001b[0;34m.\u001b[0m\u001b[0mread_sql\u001b[0m\u001b[0;34m(\u001b[0m\u001b[0mq\u001b[0m\u001b[0;34m,\u001b[0m\u001b[0mc\u001b[0m\u001b[0;34m)\u001b[0m\u001b[0;34m\u001b[0m\u001b[0m\n\u001b[0m\u001b[1;32m     25\u001b[0m     \u001b[0;32mreturn\u001b[0m \u001b[0mdf\u001b[0m\u001b[0;34m\u001b[0m\u001b[0m\n\u001b[1;32m     26\u001b[0m \u001b[0;34m\u001b[0m\u001b[0m\n",
            "\u001b[0;32m/Users/srikanthdesikan/anaconda2/lib/python2.7/site-packages/pandas/io/sql.pyc\u001b[0m in \u001b[0;36mread_sql\u001b[0;34m(sql, con, index_col, coerce_float, params, parse_dates, columns, chunksize)\u001b[0m\n\u001b[1;32m    398\u001b[0m             \u001b[0msql\u001b[0m\u001b[0;34m,\u001b[0m \u001b[0mindex_col\u001b[0m\u001b[0;34m=\u001b[0m\u001b[0mindex_col\u001b[0m\u001b[0;34m,\u001b[0m \u001b[0mparams\u001b[0m\u001b[0;34m=\u001b[0m\u001b[0mparams\u001b[0m\u001b[0;34m,\u001b[0m\u001b[0;34m\u001b[0m\u001b[0m\n\u001b[1;32m    399\u001b[0m             \u001b[0mcoerce_float\u001b[0m\u001b[0;34m=\u001b[0m\u001b[0mcoerce_float\u001b[0m\u001b[0;34m,\u001b[0m \u001b[0mparse_dates\u001b[0m\u001b[0;34m=\u001b[0m\u001b[0mparse_dates\u001b[0m\u001b[0;34m,\u001b[0m\u001b[0;34m\u001b[0m\u001b[0m\n\u001b[0;32m--> 400\u001b[0;31m             chunksize=chunksize)\n\u001b[0m\u001b[1;32m    401\u001b[0m \u001b[0;34m\u001b[0m\u001b[0m\n\u001b[1;32m    402\u001b[0m     \u001b[0;32mtry\u001b[0m\u001b[0;34m:\u001b[0m\u001b[0;34m\u001b[0m\u001b[0m\n",
            "\u001b[0;32m/Users/srikanthdesikan/anaconda2/lib/python2.7/site-packages/pandas/io/sql.pyc\u001b[0m in \u001b[0;36mread_query\u001b[0;34m(self, sql, index_col, coerce_float, params, parse_dates, chunksize)\u001b[0m\n\u001b[1;32m   1437\u001b[0m \u001b[0;34m\u001b[0m\u001b[0m\n\u001b[1;32m   1438\u001b[0m         \u001b[0margs\u001b[0m \u001b[0;34m=\u001b[0m \u001b[0m_convert_params\u001b[0m\u001b[0;34m(\u001b[0m\u001b[0msql\u001b[0m\u001b[0;34m,\u001b[0m \u001b[0mparams\u001b[0m\u001b[0;34m)\u001b[0m\u001b[0;34m\u001b[0m\u001b[0m\n\u001b[0;32m-> 1439\u001b[0;31m         \u001b[0mcursor\u001b[0m \u001b[0;34m=\u001b[0m \u001b[0mself\u001b[0m\u001b[0;34m.\u001b[0m\u001b[0mexecute\u001b[0m\u001b[0;34m(\u001b[0m\u001b[0;34m*\u001b[0m\u001b[0margs\u001b[0m\u001b[0;34m)\u001b[0m\u001b[0;34m\u001b[0m\u001b[0m\n\u001b[0m\u001b[1;32m   1440\u001b[0m         \u001b[0mcolumns\u001b[0m \u001b[0;34m=\u001b[0m \u001b[0;34m[\u001b[0m\u001b[0mcol_desc\u001b[0m\u001b[0;34m[\u001b[0m\u001b[0;36m0\u001b[0m\u001b[0;34m]\u001b[0m \u001b[0;32mfor\u001b[0m \u001b[0mcol_desc\u001b[0m \u001b[0;32min\u001b[0m \u001b[0mcursor\u001b[0m\u001b[0;34m.\u001b[0m\u001b[0mdescription\u001b[0m\u001b[0;34m]\u001b[0m\u001b[0;34m\u001b[0m\u001b[0m\n\u001b[1;32m   1441\u001b[0m \u001b[0;34m\u001b[0m\u001b[0m\n",
            "\u001b[0;32m/Users/srikanthdesikan/anaconda2/lib/python2.7/site-packages/pandas/io/sql.pyc\u001b[0m in \u001b[0;36mexecute\u001b[0;34m(self, *args, **kwargs)\u001b[0m\n\u001b[1;32m   1410\u001b[0m                 ex = DatabaseError(\"Execution failed on sql: %s\\n%s\\nunable\"\n\u001b[1;32m   1411\u001b[0m                                    \" to rollback\" % (args[0], exc))\n\u001b[0;32m-> 1412\u001b[0;31m                 \u001b[0mraise_with_traceback\u001b[0m\u001b[0;34m(\u001b[0m\u001b[0mex\u001b[0m\u001b[0;34m)\u001b[0m\u001b[0;34m\u001b[0m\u001b[0m\n\u001b[0m\u001b[1;32m   1413\u001b[0m \u001b[0;34m\u001b[0m\u001b[0m\n\u001b[1;32m   1414\u001b[0m             ex = DatabaseError(\n",
            "\u001b[0;32m/Users/srikanthdesikan/anaconda2/lib/python2.7/site-packages/pandas/io/sql.pyc\u001b[0m in \u001b[0;36mexecute\u001b[0;34m(self, *args, **kwargs)\u001b[0m\n\u001b[1;32m   1406\u001b[0m         \u001b[0;32mexcept\u001b[0m \u001b[0mException\u001b[0m \u001b[0;32mas\u001b[0m \u001b[0mexc\u001b[0m\u001b[0;34m:\u001b[0m\u001b[0;34m\u001b[0m\u001b[0m\n\u001b[1;32m   1407\u001b[0m             \u001b[0;32mtry\u001b[0m\u001b[0;34m:\u001b[0m\u001b[0;34m\u001b[0m\u001b[0m\n\u001b[0;32m-> 1408\u001b[0;31m                 \u001b[0mself\u001b[0m\u001b[0;34m.\u001b[0m\u001b[0mcon\u001b[0m\u001b[0;34m.\u001b[0m\u001b[0mrollback\u001b[0m\u001b[0;34m(\u001b[0m\u001b[0;34m)\u001b[0m\u001b[0;34m\u001b[0m\u001b[0m\n\u001b[0m\u001b[1;32m   1409\u001b[0m             \u001b[0;32mexcept\u001b[0m \u001b[0mException\u001b[0m\u001b[0;34m:\u001b[0m  \u001b[0;31m# pragma: no cover\u001b[0m\u001b[0;34m\u001b[0m\u001b[0m\n\u001b[1;32m   1410\u001b[0m                 ex = DatabaseError(\"Execution failed on sql: %s\\n%s\\nunable\"\n",
            "\u001b[0;32m/Users/srikanthdesikan/anaconda2/lib/python2.7/site-packages/pyhive/hive.pyc\u001b[0m in \u001b[0;36mrollback\u001b[0;34m(self)\u001b[0m\n\u001b[1;32m    170\u001b[0m \u001b[0;34m\u001b[0m\u001b[0m\n\u001b[1;32m    171\u001b[0m     \u001b[0;32mdef\u001b[0m \u001b[0mrollback\u001b[0m\u001b[0;34m(\u001b[0m\u001b[0mself\u001b[0m\u001b[0;34m)\u001b[0m\u001b[0;34m:\u001b[0m\u001b[0;34m\u001b[0m\u001b[0m\n\u001b[0;32m--> 172\u001b[0;31m         \u001b[0;32mraise\u001b[0m \u001b[0mNotSupportedError\u001b[0m\u001b[0;34m(\u001b[0m\u001b[0;34m\"Hive does not have transactions\"\u001b[0m\u001b[0;34m)\u001b[0m  \u001b[0;31m# pragma: no cover\u001b[0m\u001b[0;34m\u001b[0m\u001b[0m\n\u001b[0m\u001b[1;32m    173\u001b[0m \u001b[0;34m\u001b[0m\u001b[0m\n\u001b[1;32m    174\u001b[0m \u001b[0;34m\u001b[0m\u001b[0m\n",
            "\u001b[0;31mDatabaseError\u001b[0m: Execution failed on sql: \nwith allusers AS ( \nselect caldate adate, city,sum(qtysold) q, sum(pricepaid) p \nfrom salessnap group by caldate,city)\n,\nsomeusers AS (\nselect caldate sdate,city, sum(qtysold) a, sum(pricepaid) b \nfrom salessnap where likeconcerts='TRUE' AND likejazz='TRUE' group by caldate,city)\n\nselect adate,allusers.city, a, b, round(a/q,2)*100 qratio , round(b/p,2)*100 pratio\nfrom allusers, someusers where adate=sdate order by pratio desc \n\nTSocket read 0 bytes\nunable to rollback"
          ]
        }
      ],
      "execution_count": 279,
      "metadata": {
        "collapsed": false,
        "outputHidden": false,
        "inputHidden": false
      }
    },
    {
      "cell_type": "code",
      "source": [
        "df.columns"
      ],
      "outputs": [
        {
          "output_type": "execute_result",
          "execution_count": 281,
          "data": {
            "text/plain": [
              "Index([u'adate', u'a', u'b', u'qratio', u'pratio'], dtype='object')"
            ]
          },
          "metadata": {}
        }
      ],
      "execution_count": 281,
      "metadata": {
        "collapsed": false,
        "outputHidden": false,
        "inputHidden": false
      }
    },
    {
      "cell_type": "code",
      "source": [
        "df[['a','b','qratio','pratio']].describe()"
      ],
      "outputs": [],
      "execution_count": 259,
      "metadata": {
        "collapsed": false,
        "outputHidden": false,
        "inputHidden": false
      }
    },
    {
      "cell_type": "code",
      "source": [
        "a=Chart(df).mark_bar().encode(x=X('year(a)',\n",
        "  bin=Bin(maxbins=10)),y='count(*)')\n",
        "draw(a)"
      ],
      "outputs": [],
      "execution_count": 275,
      "metadata": {
        "collapsed": false,
        "outputHidden": false,
        "inputHidden": false
      }
    },
    {
      "cell_type": "code",
      "source": [
        "a=Chart(df).mark_line().encode(color=)"
      ],
      "outputs": [],
      "execution_count": null,
      "metadata": {
        "collapsed": false,
        "outputHidden": false,
        "inputHidden": false
      }
    }
  ],
  "metadata": {
    "kernelspec": {
      "name": "python2",
      "language": "python",
      "display_name": "Python 2"
    },
    "kernel_info": {
      "name": "python2"
    },
    "language_info": {
      "mimetype": "text/x-python",
      "nbconvert_exporter": "python",
      "name": "python",
      "pygments_lexer": "ipython2",
      "version": "2.7.13",
      "file_extension": ".py",
      "codemirror_mode": {
        "version": 2,
        "name": "ipython"
      }
    },
    "nteract": {
      "version": "0.3.4"
    }
  },
  "nbformat": 4,
  "nbformat_minor": 4
}