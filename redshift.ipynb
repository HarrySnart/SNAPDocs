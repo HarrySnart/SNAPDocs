{
  "cells": [
    {
      "cell_type": "markdown",
      "source": [
        "# A demo notebook : Sample ecommerce dataset from AWS"
      ],
      "metadata": {}
    },
    {
      "cell_type": "markdown",
      "source": [
        "## This demo illustrates the following \n",
        "\n",
        "* Defining spark external tables on data \n",
        "* Defining the star schema between the data tables \n",
        "* Loading a set of tables into SNAP ( Indexing Process)\n",
        "* Sample queries on SNAP"
      ],
      "metadata": {}
    },
    {
      "cell_type": "markdown",
      "source": [
        "### First let us setup the notebook"
      ],
      "metadata": {}
    },
    {
      "cell_type": "code",
      "source": [
        "from pyhive import hive\n",
        "from pprint import pprint\n",
        "import pandas as pd\n",
        "import os\n",
        "from altair import *\n",
        "\n",
        "import IPython.display\n",
        "def draw(spec):\n",
        "    IPython.display.display({\n",
        "        'application/vnd.vegalite.v1+json': spec.to_dict()\n",
        "    }, raw=True)\n",
        "\n",
        "pd.set_option('display.max_colwidth', -1) # dont truncate table columns\n",
        "cwd = os.getcwd()\n",
        "cwd=\"/data/shared/snap-samples/Redshift\"\n",
        "\n",
        "c = hive.Connection(host=\"0.0.0.0\",port=10000,auth='NOSASL')\n",
        "pd.read_sql('show tables',c)\n",
        "\n",
        "def sql(q, explain=False) :\n",
        "    # silly hack to handle filesystem prefix for us when creating local tables\n",
        "    if \"{prefix}\" in q:\n",
        "        q = q.replace('{prefix}',cwd)\n",
        "    df=pd.read_sql(q,c)\n",
        "    return df\n",
        "\n",
        "def explain(q):\n",
        "    df = sql(\"explain \" + q)\n",
        "    plan = df['plan'][0]\n",
        "    pprint(plan)\n",
        "    \n",
        "\nsql('show tables')"
      ],
      "outputs": [
        {
          "output_type": "execute_result",
          "execution_count": 1,
          "data": {
            "text/plain": [
              "                      tableName  isTemporary\n",
              "0   adsnap                       False      \n",
              "1   adtech_demo                  False      \n",
              "2   bi_crn_f_retail_depl_mvw_vw  False      \n",
              "3   campaigns                    False      \n",
              "4   category                     False      \n",
              "5   custnation                   False      \n",
              "6   customer                     False      \n",
              "7   customer_address             False      \n",
              "8   customer_demographics        False      \n",
              "9   customer_ds                  False      \n",
              "10  custregion                   False      \n",
              "11  date_dim                     False      \n",
              "12  date_dim_inventory           False      \n",
              "13  dates                        False      \n",
              "14  ddate                        False      \n",
              "15  event                        False      \n",
              "16  fico_scr_sum_bferf_all       False      \n",
              "17  flights                      False      \n",
              "18  flights_fixed                False      \n",
              "19  flights_parq                 False      \n",
              "20  flights_snap                 False      \n",
              "21  household_demographics       False      \n",
              "22  imps_media_2                 False      \n",
              "23  inventory                    False      \n",
              "24  item                         False      \n",
              "25  lineitembase                 False      \n",
              "26  lineitembaseorig             False      \n",
              "27  lineorder_sp                 False      \n",
              "28  listing                      False      \n",
              "29  orders                       False      \n",
              "30  part                         False      \n",
              "31  partsupp                     False      \n",
              "32  promotion                    False      \n",
              "33  sales                        False      \n",
              "34  sales_demo_starindex         False      \n",
              "35  sales_p                      False      \n",
              "36  salessnap                    False      \n",
              "37  sportsandjazz                False      \n",
              "38  sportsandjazzusers           False      \n",
              "39  ssb_customer                 False      \n",
              "40  ssb_part                     False      \n",
              "41  ssb_star_index_p             False      \n",
              "42  ssb_supplier                 False      \n",
              "43  store                        False      \n",
              "44  store_sales                  False      \n",
              "45  supplier                     False      \n",
              "46  suppnation                   False      \n",
              "47  suppregion                   False      \n",
              "48  time_dim                     False      \n",
              "49  users                        False      \n",
              "50  venue                        False      "
            ],
            "text/html": [
              "<div>\n",
              "<style>\n",
              "    .dataframe thead tr:only-child th {\n",
              "        text-align: right;\n",
              "    }\n",
              "\n",
              "    .dataframe thead th {\n",
              "        text-align: left;\n",
              "    }\n",
              "\n",
              "    .dataframe tbody tr th {\n",
              "        vertical-align: top;\n",
              "    }\n",
              "</style>\n",
              "<table border=\"1\" class=\"dataframe\">\n",
              "  <thead>\n",
              "    <tr style=\"text-align: right;\">\n",
              "      <th></th>\n",
              "      <th>tableName</th>\n",
              "      <th>isTemporary</th>\n",
              "    </tr>\n",
              "  </thead>\n",
              "  <tbody>\n",
              "    <tr>\n",
              "      <th>0</th>\n",
              "      <td>adsnap</td>\n",
              "      <td>False</td>\n",
              "    </tr>\n",
              "    <tr>\n",
              "      <th>1</th>\n",
              "      <td>adtech_demo</td>\n",
              "      <td>False</td>\n",
              "    </tr>\n",
              "    <tr>\n",
              "      <th>2</th>\n",
              "      <td>bi_crn_f_retail_depl_mvw_vw</td>\n",
              "      <td>False</td>\n",
              "    </tr>\n",
              "    <tr>\n",
              "      <th>3</th>\n",
              "      <td>campaigns</td>\n",
              "      <td>False</td>\n",
              "    </tr>\n",
              "    <tr>\n",
              "      <th>4</th>\n",
              "      <td>category</td>\n",
              "      <td>False</td>\n",
              "    </tr>\n",
              "    <tr>\n",
              "      <th>5</th>\n",
              "      <td>custnation</td>\n",
              "      <td>False</td>\n",
              "    </tr>\n",
              "    <tr>\n",
              "      <th>6</th>\n",
              "      <td>customer</td>\n",
              "      <td>False</td>\n",
              "    </tr>\n",
              "    <tr>\n",
              "      <th>7</th>\n",
              "      <td>customer_address</td>\n",
              "      <td>False</td>\n",
              "    </tr>\n",
              "    <tr>\n",
              "      <th>8</th>\n",
              "      <td>customer_demographics</td>\n",
              "      <td>False</td>\n",
              "    </tr>\n",
              "    <tr>\n",
              "      <th>9</th>\n",
              "      <td>customer_ds</td>\n",
              "      <td>False</td>\n",
              "    </tr>\n",
              "    <tr>\n",
              "      <th>10</th>\n",
              "      <td>custregion</td>\n",
              "      <td>False</td>\n",
              "    </tr>\n",
              "    <tr>\n",
              "      <th>11</th>\n",
              "      <td>date_dim</td>\n",
              "      <td>False</td>\n",
              "    </tr>\n",
              "    <tr>\n",
              "      <th>12</th>\n",
              "      <td>date_dim_inventory</td>\n",
              "      <td>False</td>\n",
              "    </tr>\n",
              "    <tr>\n",
              "      <th>13</th>\n",
              "      <td>dates</td>\n",
              "      <td>False</td>\n",
              "    </tr>\n",
              "    <tr>\n",
              "      <th>14</th>\n",
              "      <td>ddate</td>\n",
              "      <td>False</td>\n",
              "    </tr>\n",
              "    <tr>\n",
              "      <th>15</th>\n",
              "      <td>event</td>\n",
              "      <td>False</td>\n",
              "    </tr>\n",
              "    <tr>\n",
              "      <th>16</th>\n",
              "      <td>fico_scr_sum_bferf_all</td>\n",
              "      <td>False</td>\n",
              "    </tr>\n",
              "    <tr>\n",
              "      <th>17</th>\n",
              "      <td>flights</td>\n",
              "      <td>False</td>\n",
              "    </tr>\n",
              "    <tr>\n",
              "      <th>18</th>\n",
              "      <td>flights_fixed</td>\n",
              "      <td>False</td>\n",
              "    </tr>\n",
              "    <tr>\n",
              "      <th>19</th>\n",
              "      <td>flights_parq</td>\n",
              "      <td>False</td>\n",
              "    </tr>\n",
              "    <tr>\n",
              "      <th>20</th>\n",
              "      <td>flights_snap</td>\n",
              "      <td>False</td>\n",
              "    </tr>\n",
              "    <tr>\n",
              "      <th>21</th>\n",
              "      <td>household_demographics</td>\n",
              "      <td>False</td>\n",
              "    </tr>\n",
              "    <tr>\n",
              "      <th>22</th>\n",
              "      <td>imps_media_2</td>\n",
              "      <td>False</td>\n",
              "    </tr>\n",
              "    <tr>\n",
              "      <th>23</th>\n",
              "      <td>inventory</td>\n",
              "      <td>False</td>\n",
              "    </tr>\n",
              "    <tr>\n",
              "      <th>24</th>\n",
              "      <td>item</td>\n",
              "      <td>False</td>\n",
              "    </tr>\n",
              "    <tr>\n",
              "      <th>25</th>\n",
              "      <td>lineitembase</td>\n",
              "      <td>False</td>\n",
              "    </tr>\n",
              "    <tr>\n",
              "      <th>26</th>\n",
              "      <td>lineitembaseorig</td>\n",
              "      <td>False</td>\n",
              "    </tr>\n",
              "    <tr>\n",
              "      <th>27</th>\n",
              "      <td>lineorder_sp</td>\n",
              "      <td>False</td>\n",
              "    </tr>\n",
              "    <tr>\n",
              "      <th>28</th>\n",
              "      <td>listing</td>\n",
              "      <td>False</td>\n",
              "    </tr>\n",
              "    <tr>\n",
              "      <th>29</th>\n",
              "      <td>orders</td>\n",
              "      <td>False</td>\n",
              "    </tr>\n",
              "    <tr>\n",
              "      <th>30</th>\n",
              "      <td>part</td>\n",
              "      <td>False</td>\n",
              "    </tr>\n",
              "    <tr>\n",
              "      <th>31</th>\n",
              "      <td>partsupp</td>\n",
              "      <td>False</td>\n",
              "    </tr>\n",
              "    <tr>\n",
              "      <th>32</th>\n",
              "      <td>promotion</td>\n",
              "      <td>False</td>\n",
              "    </tr>\n",
              "    <tr>\n",
              "      <th>33</th>\n",
              "      <td>sales</td>\n",
              "      <td>False</td>\n",
              "    </tr>\n",
              "    <tr>\n",
              "      <th>34</th>\n",
              "      <td>sales_demo_starindex</td>\n",
              "      <td>False</td>\n",
              "    </tr>\n",
              "    <tr>\n",
              "      <th>35</th>\n",
              "      <td>sales_p</td>\n",
              "      <td>False</td>\n",
              "    </tr>\n",
              "    <tr>\n",
              "      <th>36</th>\n",
              "      <td>salessnap</td>\n",
              "      <td>False</td>\n",
              "    </tr>\n",
              "    <tr>\n",
              "      <th>37</th>\n",
              "      <td>sportsandjazz</td>\n",
              "      <td>False</td>\n",
              "    </tr>\n",
              "    <tr>\n",
              "      <th>38</th>\n",
              "      <td>sportsandjazzusers</td>\n",
              "      <td>False</td>\n",
              "    </tr>\n",
              "    <tr>\n",
              "      <th>39</th>\n",
              "      <td>ssb_customer</td>\n",
              "      <td>False</td>\n",
              "    </tr>\n",
              "    <tr>\n",
              "      <th>40</th>\n",
              "      <td>ssb_part</td>\n",
              "      <td>False</td>\n",
              "    </tr>\n",
              "    <tr>\n",
              "      <th>41</th>\n",
              "      <td>ssb_star_index_p</td>\n",
              "      <td>False</td>\n",
              "    </tr>\n",
              "    <tr>\n",
              "      <th>42</th>\n",
              "      <td>ssb_supplier</td>\n",
              "      <td>False</td>\n",
              "    </tr>\n",
              "    <tr>\n",
              "      <th>43</th>\n",
              "      <td>store</td>\n",
              "      <td>False</td>\n",
              "    </tr>\n",
              "    <tr>\n",
              "      <th>44</th>\n",
              "      <td>store_sales</td>\n",
              "      <td>False</td>\n",
              "    </tr>\n",
              "    <tr>\n",
              "      <th>45</th>\n",
              "      <td>supplier</td>\n",
              "      <td>False</td>\n",
              "    </tr>\n",
              "    <tr>\n",
              "      <th>46</th>\n",
              "      <td>suppnation</td>\n",
              "      <td>False</td>\n",
              "    </tr>\n",
              "    <tr>\n",
              "      <th>47</th>\n",
              "      <td>suppregion</td>\n",
              "      <td>False</td>\n",
              "    </tr>\n",
              "    <tr>\n",
              "      <th>48</th>\n",
              "      <td>time_dim</td>\n",
              "      <td>False</td>\n",
              "    </tr>\n",
              "    <tr>\n",
              "      <th>49</th>\n",
              "      <td>users</td>\n",
              "      <td>False</td>\n",
              "    </tr>\n",
              "    <tr>\n",
              "      <th>50</th>\n",
              "      <td>venue</td>\n",
              "      <td>False</td>\n",
              "    </tr>\n",
              "  </tbody>\n",
              "</table>\n",
              "</div>"
            ]
          },
          "metadata": {}
        }
      ],
      "execution_count": 1,
      "metadata": {
        "collapsed": false,
        "outputHidden": false,
        "inputHidden": false
      }
    },
    {
      "cell_type": "markdown",
      "source": [
        "## Drop all tables and recreate them\n",
        "\nNote these are external tables - so drop will only delete the metadata not the data"
      ],
      "metadata": {}
    },
    {
      "cell_type": "code",
      "source": [
        "table_names = [\"users\",\"venue\",\"category\",\"ddate\",\"event\",\"listing\",\"sales\"]\n",
        "drop = \"\"\"\n",
        "drop table if exists {table_name}\n",
        "\"\"\"\n",
        "for table_name in table_names:\n",
        "    pd.read_sql(\n",
        "        drop.format(table_name=table_name)\n",
        "    ,c) "
      ],
      "outputs": [],
      "execution_count": 2,
      "metadata": {
        "collapsed": false,
        "outputHidden": false,
        "inputHidden": false
      }
    },
    {
      "cell_type": "markdown",
      "source": [
        "### External table : Users"
      ],
      "metadata": {}
    },
    {
      "cell_type": "code",
      "source": [
        "users = \"\"\"\n",
        "create table if not exists users (\n",
        "\tuserid integer ,\n",
        "\tusername string,\n",
        "\tfirstname string,\n",
        "\tlastname string,\n",
        "\tcity string,\n",
        "\tstate string,\n",
        "\temail string,\n",
        "\tphone string,\n",
        "\tlikesports string,\n",
        "\tliketheatre string,\n",
        "\tlikeconcerts string,\n",
        "\tlikejazz string,\n",
        "\tlikeclassical string,\n",
        "\tlikeopera string,\n",
        "\tlikerock string,\n",
        "\tlikevegas string,\n",
        "\tlikebroadway string,\n",
        "\tlikemusicals string)\n",
        "    using csv\n",
        "    options (path \"{prefix}/allusers_pipe.txt\", delimiter \"|\")\n",
        "\"\"\"\n",
        "sql(users)"
      ],
      "outputs": [
        {
          "output_type": "execute_result",
          "execution_count": 3,
          "data": {
            "text/plain": [
              "Empty DataFrame\n",
              "Columns: [Result]\n",
              "Index: []"
            ],
            "text/html": [
              "<div>\n",
              "<style>\n",
              "    .dataframe thead tr:only-child th {\n",
              "        text-align: right;\n",
              "    }\n",
              "\n",
              "    .dataframe thead th {\n",
              "        text-align: left;\n",
              "    }\n",
              "\n",
              "    .dataframe tbody tr th {\n",
              "        vertical-align: top;\n",
              "    }\n",
              "</style>\n",
              "<table border=\"1\" class=\"dataframe\">\n",
              "  <thead>\n",
              "    <tr style=\"text-align: right;\">\n",
              "      <th></th>\n",
              "      <th>Result</th>\n",
              "    </tr>\n",
              "  </thead>\n",
              "  <tbody>\n",
              "  </tbody>\n",
              "</table>\n",
              "</div>"
            ]
          },
          "metadata": {}
        }
      ],
      "execution_count": 3,
      "metadata": {
        "collapsed": false,
        "outputHidden": false,
        "inputHidden": false
      }
    },
    {
      "cell_type": "markdown",
      "source": [
        "### External table : Venue"
      ],
      "metadata": {}
    },
    {
      "cell_type": "code",
      "source": [
        "venue = \"\"\"\n",
        "create table if not exists venue(\n",
        "\tvenueid integer,\n",
        "\tvenuename string,\n",
        "\tvenuecity string,\n",
        "\tvenuestate string,\n",
        "\tvenueseats integer)\n",
        "    using csv\n",
        "    options (path \"{prefix}/venue_pipe.txt\", delimiter \"|\")\n",
        "\"\"\"\n",
        "sql(venue)\n"
      ],
      "outputs": [
        {
          "output_type": "execute_result",
          "execution_count": 4,
          "data": {
            "text/plain": [
              "Empty DataFrame\n",
              "Columns: [Result]\n",
              "Index: []"
            ],
            "text/html": [
              "<div>\n",
              "<style>\n",
              "    .dataframe thead tr:only-child th {\n",
              "        text-align: right;\n",
              "    }\n",
              "\n",
              "    .dataframe thead th {\n",
              "        text-align: left;\n",
              "    }\n",
              "\n",
              "    .dataframe tbody tr th {\n",
              "        vertical-align: top;\n",
              "    }\n",
              "</style>\n",
              "<table border=\"1\" class=\"dataframe\">\n",
              "  <thead>\n",
              "    <tr style=\"text-align: right;\">\n",
              "      <th></th>\n",
              "      <th>Result</th>\n",
              "    </tr>\n",
              "  </thead>\n",
              "  <tbody>\n",
              "  </tbody>\n",
              "</table>\n",
              "</div>"
            ]
          },
          "metadata": {}
        }
      ],
      "execution_count": 4,
      "metadata": {
        "collapsed": false,
        "outputHidden": false,
        "inputHidden": false
      }
    },
    {
      "cell_type": "markdown",
      "source": [
        "### External table : Category"
      ],
      "metadata": {}
    },
    {
      "cell_type": "code",
      "source": [
        "category=\"\"\"\n",
        "create table if not exists category(\n",
        "\tcatid integer,\n",
        "\tcatgroup string,\n",
        "\tcatname string,\n",
        "\tcatdesc string)    \n",
        "    using csv\n",
        "    options (path \"{prefix}/category_pipe.txt\", delimiter \"|\")\n",
        "\"\"\"\n",
        "sql(category)"
      ],
      "outputs": [
        {
          "output_type": "execute_result",
          "execution_count": 5,
          "data": {
            "text/plain": [
              "Empty DataFrame\n",
              "Columns: [Result]\n",
              "Index: []"
            ],
            "text/html": [
              "<div>\n",
              "<style>\n",
              "    .dataframe thead tr:only-child th {\n",
              "        text-align: right;\n",
              "    }\n",
              "\n",
              "    .dataframe thead th {\n",
              "        text-align: left;\n",
              "    }\n",
              "\n",
              "    .dataframe tbody tr th {\n",
              "        vertical-align: top;\n",
              "    }\n",
              "</style>\n",
              "<table border=\"1\" class=\"dataframe\">\n",
              "  <thead>\n",
              "    <tr style=\"text-align: right;\">\n",
              "      <th></th>\n",
              "      <th>Result</th>\n",
              "    </tr>\n",
              "  </thead>\n",
              "  <tbody>\n",
              "  </tbody>\n",
              "</table>\n",
              "</div>"
            ]
          },
          "metadata": {}
        }
      ],
      "execution_count": 5,
      "metadata": {
        "collapsed": false,
        "outputHidden": false,
        "inputHidden": false
      }
    },
    {
      "cell_type": "markdown",
      "source": [
        "### External table: Date"
      ],
      "metadata": {}
    },
    {
      "cell_type": "code",
      "source": [
        "ddate = \"\"\"\n",
        "create table if not exists ddate(\n",
        "\tdateid integer ,\n",
        "\tcaldate date,\n",
        "\tday string,\n",
        "\tweek integer,\n",
        "\tmonth string,\n",
        "\tqtr string,\n",
        "\tyear integer,\n",
        "\tholiday string)    \n",
        "    using csv\n",
        "    options (path \"/data/shared/snap-samples/Redshift/date2008_pipe.txt\", delimiter \"|\")\n",
        "\"\"\"\n",
        "sql(ddate)"
      ],
      "outputs": [
        {
          "output_type": "execute_result",
          "execution_count": 6,
          "data": {
            "text/plain": [
              "Empty DataFrame\n",
              "Columns: [Result]\n",
              "Index: []"
            ],
            "text/html": [
              "<div>\n",
              "<style>\n",
              "    .dataframe thead tr:only-child th {\n",
              "        text-align: right;\n",
              "    }\n",
              "\n",
              "    .dataframe thead th {\n",
              "        text-align: left;\n",
              "    }\n",
              "\n",
              "    .dataframe tbody tr th {\n",
              "        vertical-align: top;\n",
              "    }\n",
              "</style>\n",
              "<table border=\"1\" class=\"dataframe\">\n",
              "  <thead>\n",
              "    <tr style=\"text-align: right;\">\n",
              "      <th></th>\n",
              "      <th>Result</th>\n",
              "    </tr>\n",
              "  </thead>\n",
              "  <tbody>\n",
              "  </tbody>\n",
              "</table>\n",
              "</div>"
            ]
          },
          "metadata": {}
        }
      ],
      "execution_count": 6,
      "metadata": {
        "collapsed": false,
        "outputHidden": false,
        "inputHidden": false
      }
    },
    {
      "cell_type": "markdown",
      "source": [
        "### External table : Event"
      ],
      "metadata": {}
    },
    {
      "cell_type": "code",
      "source": [
        "event = \"\"\"\n",
        "create table if not exists event(\n",
        "\teventid integer ,\n",
        "\tvenueid integer,\n",
        "\tcatid integer,\n",
        "\tdateid integer ,\n",
        "\teventname string,\n",
        "\tstarttime timestamp)    \n",
        "    using csv\n",
        "    options (path \"{prefix}/allevents_pipe.txt\", delimiter \"|\")\n",
        "\"\"\"\n",
        "sql(event)"
      ],
      "outputs": [
        {
          "output_type": "execute_result",
          "execution_count": 7,
          "data": {
            "text/plain": [
              "Empty DataFrame\n",
              "Columns: [Result]\n",
              "Index: []"
            ],
            "text/html": [
              "<div>\n",
              "<style>\n",
              "    .dataframe thead tr:only-child th {\n",
              "        text-align: right;\n",
              "    }\n",
              "\n",
              "    .dataframe thead th {\n",
              "        text-align: left;\n",
              "    }\n",
              "\n",
              "    .dataframe tbody tr th {\n",
              "        vertical-align: top;\n",
              "    }\n",
              "</style>\n",
              "<table border=\"1\" class=\"dataframe\">\n",
              "  <thead>\n",
              "    <tr style=\"text-align: right;\">\n",
              "      <th></th>\n",
              "      <th>Result</th>\n",
              "    </tr>\n",
              "  </thead>\n",
              "  <tbody>\n",
              "  </tbody>\n",
              "</table>\n",
              "</div>"
            ]
          },
          "metadata": {}
        }
      ],
      "execution_count": 7,
      "metadata": {
        "collapsed": false,
        "outputHidden": false,
        "inputHidden": false
      }
    },
    {
      "cell_type": "markdown",
      "source": [
        "### External table: Listing"
      ],
      "metadata": {}
    },
    {
      "cell_type": "code",
      "source": [
        "listing = \"\"\"\n",
        "create table if not exists listing(\n",
        "\tlistid integer  ,\n",
        "\tsellerid integer ,\n",
        "\teventid integer ,\n",
        "\tdateid integer ,\n",
        "\tnumtickets integer ,\n",
        "\tpriceperticket decimal(8,2),\n",
        "\ttotalprice decimal(8,2),\n",
        "\tlisttime timestamp)    \n",
        "    using csv\n",
        "    options (path \"{prefix}/listings_pipe.txt\", delimiter \"|\")\n",
        "\"\"\"\n",
        "\nsql(listing)"
      ],
      "outputs": [
        {
          "output_type": "execute_result",
          "execution_count": 8,
          "data": {
            "text/plain": [
              "Empty DataFrame\n",
              "Columns: [Result]\n",
              "Index: []"
            ],
            "text/html": [
              "<div>\n",
              "<style>\n",
              "    .dataframe thead tr:only-child th {\n",
              "        text-align: right;\n",
              "    }\n",
              "\n",
              "    .dataframe thead th {\n",
              "        text-align: left;\n",
              "    }\n",
              "\n",
              "    .dataframe tbody tr th {\n",
              "        vertical-align: top;\n",
              "    }\n",
              "</style>\n",
              "<table border=\"1\" class=\"dataframe\">\n",
              "  <thead>\n",
              "    <tr style=\"text-align: right;\">\n",
              "      <th></th>\n",
              "      <th>Result</th>\n",
              "    </tr>\n",
              "  </thead>\n",
              "  <tbody>\n",
              "  </tbody>\n",
              "</table>\n",
              "</div>"
            ]
          },
          "metadata": {}
        }
      ],
      "execution_count": 8,
      "metadata": {
        "collapsed": false,
        "outputHidden": false,
        "inputHidden": false
      }
    },
    {
      "cell_type": "markdown",
      "source": [
        "### External table: Sales"
      ],
      "metadata": {}
    },
    {
      "cell_type": "code",
      "source": [
        "sales = \"\"\"\n",
        "create table if not exists  sales(\n",
        "\tsalesid integer ,\n",
        "\tlistid integer,\n",
        "\tsellerid integer,\n",
        "\tbuyerid integer,\n",
        "\teventid integer,\n",
        "\tdateid integer,\n",
        "\tqtysold integer,\n",
        "\tpricepaid decimal(8,2),\n",
        "\tcommission decimal(8,2),\n",
        "\tsaletime timestamp)\n",
        "    using csv\n",
        "    options (\n",
        "        path \"{prefix}/sales_tab.txt\"\n",
        "        ,delimiter \"\\t\"\n",
        "        ,timestampFormat \"d/MM/yyyy HH:mm:ss\"\n",
        "        ,inferSchema \"true\"\n",
        "        )\n",
        "\"\"\"\n",
        "sql(sales)\n"
      ],
      "outputs": [
        {
          "output_type": "execute_result",
          "execution_count": 9,
          "data": {
            "text/plain": [
              "Empty DataFrame\n",
              "Columns: [Result]\n",
              "Index: []"
            ],
            "text/html": [
              "<div>\n",
              "<style>\n",
              "    .dataframe thead tr:only-child th {\n",
              "        text-align: right;\n",
              "    }\n",
              "\n",
              "    .dataframe thead th {\n",
              "        text-align: left;\n",
              "    }\n",
              "\n",
              "    .dataframe tbody tr th {\n",
              "        vertical-align: top;\n",
              "    }\n",
              "</style>\n",
              "<table border=\"1\" class=\"dataframe\">\n",
              "  <thead>\n",
              "    <tr style=\"text-align: right;\">\n",
              "      <th></th>\n",
              "      <th>Result</th>\n",
              "    </tr>\n",
              "  </thead>\n",
              "  <tbody>\n",
              "  </tbody>\n",
              "</table>\n",
              "</div>"
            ]
          },
          "metadata": {}
        }
      ],
      "execution_count": 9,
      "metadata": {
        "collapsed": false,
        "outputHidden": false,
        "inputHidden": false
      }
    },
    {
      "cell_type": "markdown",
      "source": [
        "### Define the star schema in SNAP"
      ],
      "metadata": {}
    },
    {
      "cell_type": "code",
      "source": [
        "create_star_schema = \"\"\"alter star schema on sales as\n",
        "many_to_one join of sales with listing on sales.listid = listing.listid\n",
        "many_to_one join of sales with event on sales.eventid = event.eventid\n",
        "many_to_one join of sales with ddate on sales.dateid = ddate.dateid\n",
        "many_to_one join of sales with users on sales.buyerid = users.userid\n",
        "many_to_one join of event with category on event.catid = category.catid\n",
        "many_to_one join of event with venue on event.venueid = venue.venueid\n",
        "\"\"\"\n",
        "sql(create_star_schema)"
      ],
      "outputs": [
        {
          "output_type": "execute_result",
          "execution_count": 10,
          "data": {
            "text/plain": [
              "Empty DataFrame\n",
              "Columns: []\n",
              "Index: []"
            ],
            "text/html": [
              "<div>\n",
              "<style>\n",
              "    .dataframe thead tr:only-child th {\n",
              "        text-align: right;\n",
              "    }\n",
              "\n",
              "    .dataframe thead th {\n",
              "        text-align: left;\n",
              "    }\n",
              "\n",
              "    .dataframe tbody tr th {\n",
              "        vertical-align: top;\n",
              "    }\n",
              "</style>\n",
              "<table border=\"1\" class=\"dataframe\">\n",
              "  <thead>\n",
              "    <tr style=\"text-align: right;\">\n",
              "      <th></th>\n",
              "      <th></th>\n",
              "    </tr>\n",
              "  </thead>\n",
              "  <tbody>\n",
              "  </tbody>\n",
              "</table>\n",
              "</div>"
            ]
          },
          "metadata": {}
        }
      ],
      "execution_count": 10,
      "metadata": {
        "collapsed": false,
        "outputHidden": false,
        "inputHidden": false
      }
    },
    {
      "cell_type": "markdown",
      "source": [
        "### Define the SNAP Index "
      ],
      "metadata": {}
    },
    {
      "cell_type": "code",
      "source": [
        "salessnap=\"\"\"\n",
        "drop olap index salessnap on sales\n",
        "\"\"\"\n",
        "sql(salessnap)"
      ],
      "outputs": [
        {
          "output_type": "execute_result",
          "execution_count": 13,
          "data": {
            "text/plain": [
              "Empty DataFrame\n",
              "Columns: [Result]\n",
              "Index: []"
            ],
            "text/html": [
              "<div>\n",
              "<style>\n",
              "    .dataframe thead tr:only-child th {\n",
              "        text-align: right;\n",
              "    }\n",
              "\n",
              "    .dataframe thead th {\n",
              "        text-align: left;\n",
              "    }\n",
              "\n",
              "    .dataframe tbody tr th {\n",
              "        vertical-align: top;\n",
              "    }\n",
              "</style>\n",
              "<table border=\"1\" class=\"dataframe\">\n",
              "  <thead>\n",
              "    <tr style=\"text-align: right;\">\n",
              "      <th></th>\n",
              "      <th>Result</th>\n",
              "    </tr>\n",
              "  </thead>\n",
              "  <tbody>\n",
              "  </tbody>\n",
              "</table>\n",
              "</div>"
            ]
          },
          "metadata": {}
        }
      ],
      "execution_count": 13,
      "metadata": {
        "collapsed": false,
        "outputHidden": false,
        "inputHidden": false
      }
    },
    {
      "cell_type": "code",
      "source": [
        "salessnap=\"\"\"\n",
        "\n",
        "create olap index salessnap on sales\n",
        "timestamp dimension starttime \n",
        "timestamp dimension listtime \n",
        "timestamp dimension saletime\n",
        "timestamp dimension caldate\n",
        "metric priceperticket aggregator doubleSum is nullable nullvalue \"0.0\" \n",
        "metric totalprice aggregator doubleSum is nullable nullvalue \"0.0\"\n",
        "metric numtickets aggregator longSum is nullable nullvalue \"0\"\n",
        "metric qtysold aggregator longSum is nullable nullvalue \"0\"\n",
        "metric pricepaid aggregator doubleSum is nullable nullvalue \"0.0\"\n",
        "metric commission aggregator doubleSum is nullable nullvalue \"0.0\"\n",
        "dimension holiday is not nullable \n",
        "dimensions \"username,city, state, likesports, liketheatre,likeconcerts, likejazz , \\\n",
        "likeclassical, likeopera, likerock, likevegas, likebroadway, likemusicals, \\\n",
        "venuename, venuecity, venuestate, catgroup, catname, catdesc \\\n",
        ", day, week, month, qtr, year, eventname , \\\n",
        "sales.eventid, sales.buyerid, sales.listid, sales.salesid\" \n",
        "\n",
        "OPTIONS (        \n",
        "    path \"/data/shared/snap-samples/Redshift/snap\",\n",
        "    avgSizePerPartition  \"40mb\",\n",
        "    avgNumRowsPerPartition \"10000\",\n",
        "    preferredSegmentSize \"20mb\",\n",
        "    rowFlushBoundary \"10000\",\n",
        "    defaultNullValue \"0\"\n",
        ")\n",
        "\"\"\"\n",
        "\nsql(salessnap)"
      ],
      "outputs": [
        {
          "output_type": "execute_result",
          "execution_count": 14,
          "data": {
            "text/plain": [
              "Empty DataFrame\n",
              "Columns: [Result]\n",
              "Index: []"
            ],
            "text/html": [
              "<div>\n",
              "<style>\n",
              "    .dataframe thead tr:only-child th {\n",
              "        text-align: right;\n",
              "    }\n",
              "\n",
              "    .dataframe thead th {\n",
              "        text-align: left;\n",
              "    }\n",
              "\n",
              "    .dataframe tbody tr th {\n",
              "        vertical-align: top;\n",
              "    }\n",
              "</style>\n",
              "<table border=\"1\" class=\"dataframe\">\n",
              "  <thead>\n",
              "    <tr style=\"text-align: right;\">\n",
              "      <th></th>\n",
              "      <th>Result</th>\n",
              "    </tr>\n",
              "  </thead>\n",
              "  <tbody>\n",
              "  </tbody>\n",
              "</table>\n",
              "</div>"
            ]
          },
          "metadata": {}
        }
      ],
      "execution_count": 14,
      "metadata": {
        "collapsed": false,
        "outputHidden": false,
        "inputHidden": false
      }
    },
    {
      "cell_type": "markdown",
      "source": [
        "### Load data into SNAP"
      ],
      "metadata": {}
    },
    {
      "cell_type": "code",
      "source": [
        "insert=\"\"\" insert overwrite olap index salessnap of sales \"\"\"\n",
        "\nsql(insert)"
      ],
      "outputs": [],
      "execution_count": 237,
      "metadata": {
        "collapsed": false,
        "outputHidden": false,
        "inputHidden": false
      }
    },
    {
      "cell_type": "markdown",
      "source": [
        "### Query 1\n",
        "\nNote after loading data into SNAP you can query the original tables sales, ddate with the join keys. The query will get rewritten to use the SNAP Index"
      ],
      "metadata": {}
    },
    {
      "cell_type": "code",
      "source": [
        "query1 = \"\"\"\n",
        "SELECT sum(qtysold) \n",
        "FROM   sales as sales, ddate\n",
        "WHERE  sales.dateid = ddate.dateid \n",
        "AND    ddate.caldate = '2008-01-05'\n",
        "\"\"\"\n",
        "sql(query1)"
      ],
      "outputs": [
        {
          "output_type": "execute_result",
          "execution_count": 15,
          "data": {
            "text/plain": [
              "   sum(qtysold)\n",
              "0  203         "
            ],
            "text/html": [
              "<div>\n",
              "<style>\n",
              "    .dataframe thead tr:only-child th {\n",
              "        text-align: right;\n",
              "    }\n",
              "\n",
              "    .dataframe thead th {\n",
              "        text-align: left;\n",
              "    }\n",
              "\n",
              "    .dataframe tbody tr th {\n",
              "        vertical-align: top;\n",
              "    }\n",
              "</style>\n",
              "<table border=\"1\" class=\"dataframe\">\n",
              "  <thead>\n",
              "    <tr style=\"text-align: right;\">\n",
              "      <th></th>\n",
              "      <th>sum(qtysold)</th>\n",
              "    </tr>\n",
              "  </thead>\n",
              "  <tbody>\n",
              "    <tr>\n",
              "      <th>0</th>\n",
              "      <td>203</td>\n",
              "    </tr>\n",
              "  </tbody>\n",
              "</table>\n",
              "</div>"
            ]
          },
          "metadata": {}
        }
      ],
      "execution_count": 15,
      "metadata": {
        "collapsed": false,
        "outputHidden": false,
        "inputHidden": false
      }
    },
    {
      "cell_type": "code",
      "source": [
        "explain(query1)"
      ],
      "outputs": [
        {
          "output_type": "stream",
          "name": "stdout",
          "text": [
            "u'== Physical Plan ==\\n*Project [alias-1#808L AS sum(qtysold)#807L]\\n+- *HashAggregate(keys=[], functions=[sum(alias-1#808L)])\\n   +- Exchange SinglePartition\\n      +- *HashAggregate(keys=[], functions=[partial_sum(alias-1#808L)])\\n         +- *Scan spmd{\\n  \"jsonClass\" : \"TimeSeriesQuerySpec\",\\n  \"queryType\" : \"timeseries\",\\n  \"dataSource\" : \"spmd\",\\n  \"intervals\" : [ \"1900-01-01T00:00:00.000+05:53:20/2100-01-01T00:23:20.000+05:53:20\" ],\\n  \"granularity\" : \"all\",\\n  \"filter\" : {\\n    \"jsonClass\" : \"LogicalFilterSpec\",\\n    \"type\" : \"and\",\\n    \"fields\" : [ {\\n      \"jsonClass\" : \"JavascriptFilterSpec\",\\n      \"type\" : \"javascript\",\\n      \"dimension\" : \"caldate\",\\n      \"function\" : \"function (caldate) {\\\\n            \\\\n            var v2 = org.joda.time.format.ISODateTimeFormat.dateTimeParser();\\\\n            var v4 = (org.joda.time.LocalDate.parse(caldate, v2).toString(\\\\\"yyyy-MM-dd\\\\\"));\\\\n\\\\n            return((((v4 != null) ? v4.toString() : \\\\\"\\\\\"))  ==  (\\\\\"2008-01-05\\\\\"));\\\\n            }\"\\n    } ]\\n  },\\n  \"aggregations\" : [ {\\n    \"jsonClass\" : \"FunctionAggregationSpec\",\\n    \"type\" : \"longSum\",\\n    \"name\" : \"alias-1\",\\n    \"fieldName\" : \"qtysold\"\\n  } ],\\n  \"context\" : {\\n    \"queryId\" : \"query-551374351501230\"\\n  }\\n} default.salessnap[alias-1#808L] Format: com.sparklinedata.mdformat.MDFormat@7f9c3188, InputPaths: file:/data/shared/snap-samples/Redshift/snap, PartitionFilters: [], PushedFilters: [], ReadSchema: struct<alias-1:bigint>'\n"
          ]
        }
      ],
      "execution_count": 18,
      "metadata": {}
    },
    {
      "cell_type": "code",
      "source": [
        "query2 = \"\"\"\n",
        "SELECT firstname, lastname, total_quantity \n",
        "FROM   (SELECT buyerid, sum(qtysold) total_quantity\n",
        "        FROM  sales\n",
        "        GROUP BY buyerid\n",
        "        ORDER BY total_quantity desc limit 10) Q, users\n",
        "WHERE Q.buyerid = userid\n",
        "ORDER BY Q.total_quantity desc\n",
        "\"\"\"\n",
        "sql(query2)"
      ],
      "outputs": [],
      "execution_count": 231,
      "metadata": {
        "collapsed": false,
        "outputHidden": false,
        "inputHidden": false
      }
    },
    {
      "cell_type": "code",
      "source": [
        "sq1=\"\"\" \n",
        "\n",
        "SELECT SUM(`sales`.`qtysold`) AS `sum_qtysold_ok`, \n",
        "COUNT(1) AS `x__alias__0` \n",
        "FROM `default`.`sales` `sales` \n",
        "  JOIN `default`.`users` `users` ON (`sales`.`buyerid` = `users`.`userid`) \n",
        "  JOIN `default`.`event` `event` ON (`sales`.`eventid` = `event`.`eventid`) \n",
        "  JOIN `default`.`listing` `listing` ON (`sales`.`listid` = `listing`.`listid`) \n",
        "  JOIN `default`.`ddate` `ddate` ON (`sales`.`dateid` = `ddate`.`dateid`) \n",
        "  JOIN `default`.`category` `category` ON (`event`.`catid` = `category`.`catid`) \n",
        "  JOIN `default`.`venue` `venue` ON (`event`.`venueid` = `venue`.`venueid`) \n",
        "  HAVING (COUNT(1) > 0)\n",
        "\n",
        "\"\"\"\n",
        "sql(sq1)"
      ],
      "outputs": [
        {
          "output_type": "execute_result",
          "execution_count": 24,
          "data": {
            "text/plain": [
              "   sum_qtysold_ok  x__alias__0\n",
              "0  339796          169679     "
            ],
            "text/html": [
              "<div>\n",
              "<style>\n",
              "    .dataframe thead tr:only-child th {\n",
              "        text-align: right;\n",
              "    }\n",
              "\n",
              "    .dataframe thead th {\n",
              "        text-align: left;\n",
              "    }\n",
              "\n",
              "    .dataframe tbody tr th {\n",
              "        vertical-align: top;\n",
              "    }\n",
              "</style>\n",
              "<table border=\"1\" class=\"dataframe\">\n",
              "  <thead>\n",
              "    <tr style=\"text-align: right;\">\n",
              "      <th></th>\n",
              "      <th>sum_qtysold_ok</th>\n",
              "      <th>x__alias__0</th>\n",
              "    </tr>\n",
              "  </thead>\n",
              "  <tbody>\n",
              "    <tr>\n",
              "      <th>0</th>\n",
              "      <td>339796</td>\n",
              "      <td>169679</td>\n",
              "    </tr>\n",
              "  </tbody>\n",
              "</table>\n",
              "</div>"
            ]
          },
          "metadata": {}
        }
      ],
      "execution_count": 24,
      "metadata": {
        "collapsed": false,
        "outputHidden": false,
        "inputHidden": false
      }
    },
    {
      "cell_type": "code",
      "source": [
        "t10=\"\"\"\n",
        "select  sales.eventid, sum(sales.pricepaid) \n",
        "from sales, event\n",
        "where sales.eventid = event.eventid\n",
        "and sales.pricepaid > 30\n",
        "group by sales.eventid\n",
        "order by 2 desc\n",
        "limit 10\n",
        "\"\"\"\n",
        "sql(t10)"
      ],
      "outputs": [
        {
          "output_type": "execute_result",
          "execution_count": 22,
          "data": {
            "text/plain": [
              "   eventid sum(pricepaid)\n",
              "0  289      51846.00     \n",
              "1  7895     51049.00     \n",
              "2  1602     50301.00     \n",
              "3  851      49956.00     \n",
              "4  7315     49823.00     \n",
              "5  6471     47997.00     \n",
              "6  2118     47863.00     \n",
              "7  984      46780.00     \n",
              "8  7851     46661.00     \n",
              "9  5638     46280.00     "
            ],
            "text/html": [
              "<div>\n",
              "<style>\n",
              "    .dataframe thead tr:only-child th {\n",
              "        text-align: right;\n",
              "    }\n",
              "\n",
              "    .dataframe thead th {\n",
              "        text-align: left;\n",
              "    }\n",
              "\n",
              "    .dataframe tbody tr th {\n",
              "        vertical-align: top;\n",
              "    }\n",
              "</style>\n",
              "<table border=\"1\" class=\"dataframe\">\n",
              "  <thead>\n",
              "    <tr style=\"text-align: right;\">\n",
              "      <th></th>\n",
              "      <th>eventid</th>\n",
              "      <th>sum(pricepaid)</th>\n",
              "    </tr>\n",
              "  </thead>\n",
              "  <tbody>\n",
              "    <tr>\n",
              "      <th>0</th>\n",
              "      <td>289</td>\n",
              "      <td>51846.00</td>\n",
              "    </tr>\n",
              "    <tr>\n",
              "      <th>1</th>\n",
              "      <td>7895</td>\n",
              "      <td>51049.00</td>\n",
              "    </tr>\n",
              "    <tr>\n",
              "      <th>2</th>\n",
              "      <td>1602</td>\n",
              "      <td>50301.00</td>\n",
              "    </tr>\n",
              "    <tr>\n",
              "      <th>3</th>\n",
              "      <td>851</td>\n",
              "      <td>49956.00</td>\n",
              "    </tr>\n",
              "    <tr>\n",
              "      <th>4</th>\n",
              "      <td>7315</td>\n",
              "      <td>49823.00</td>\n",
              "    </tr>\n",
              "    <tr>\n",
              "      <th>5</th>\n",
              "      <td>6471</td>\n",
              "      <td>47997.00</td>\n",
              "    </tr>\n",
              "    <tr>\n",
              "      <th>6</th>\n",
              "      <td>2118</td>\n",
              "      <td>47863.00</td>\n",
              "    </tr>\n",
              "    <tr>\n",
              "      <th>7</th>\n",
              "      <td>984</td>\n",
              "      <td>46780.00</td>\n",
              "    </tr>\n",
              "    <tr>\n",
              "      <th>8</th>\n",
              "      <td>7851</td>\n",
              "      <td>46661.00</td>\n",
              "    </tr>\n",
              "    <tr>\n",
              "      <th>9</th>\n",
              "      <td>5638</td>\n",
              "      <td>46280.00</td>\n",
              "    </tr>\n",
              "  </tbody>\n",
              "</table>\n",
              "</div>"
            ]
          },
          "metadata": {}
        }
      ],
      "execution_count": 22,
      "metadata": {
        "collapsed": false,
        "outputHidden": false,
        "inputHidden": false
      }
    },
    {
      "cell_type": "markdown",
      "source": [
        "### Create a derived view representing a segment of users"
      ],
      "metadata": {}
    },
    {
      "cell_type": "code",
      "source": [
        "sportsandjazz = \"\"\"\n",
        "create or replace view sportsandjazz as \n",
        "select * from salessnap where likesports=\"TRUE\" and likejazz=\"TRUE\"\n",
        "\"\"\"\n",
        "sql(sportsandjazz)"
      ],
      "outputs": [
        {
          "output_type": "execute_result",
          "execution_count": 21,
          "data": {
            "text/plain": [
              "Empty DataFrame\n",
              "Columns: [Result]\n",
              "Index: []"
            ],
            "text/html": [
              "<div>\n",
              "<style>\n",
              "    .dataframe thead tr:only-child th {\n",
              "        text-align: right;\n",
              "    }\n",
              "\n",
              "    .dataframe thead th {\n",
              "        text-align: left;\n",
              "    }\n",
              "\n",
              "    .dataframe tbody tr th {\n",
              "        vertical-align: top;\n",
              "    }\n",
              "</style>\n",
              "<table border=\"1\" class=\"dataframe\">\n",
              "  <thead>\n",
              "    <tr style=\"text-align: right;\">\n",
              "      <th></th>\n",
              "      <th>Result</th>\n",
              "    </tr>\n",
              "  </thead>\n",
              "  <tbody>\n",
              "  </tbody>\n",
              "</table>\n",
              "</div>"
            ]
          },
          "metadata": {}
        }
      ],
      "execution_count": 21,
      "metadata": {
        "collapsed": false,
        "outputHidden": false,
        "inputHidden": false
      }
    },
    {
      "cell_type": "code",
      "source": [
        "\n",
        "q=\"\"\"\n",
        "select count(*) from sportsandjazz\n",
        "\"\"\"\n",
        "sql(q)"
      ],
      "outputs": [
        {
          "output_type": "execute_result",
          "execution_count": 20,
          "data": {
            "text/plain": [
              "   count(1)\n",
              "0  7721    "
            ],
            "text/html": [
              "<div>\n",
              "<style>\n",
              "    .dataframe thead tr:only-child th {\n",
              "        text-align: right;\n",
              "    }\n",
              "\n",
              "    .dataframe thead th {\n",
              "        text-align: left;\n",
              "    }\n",
              "\n",
              "    .dataframe tbody tr th {\n",
              "        vertical-align: top;\n",
              "    }\n",
              "</style>\n",
              "<table border=\"1\" class=\"dataframe\">\n",
              "  <thead>\n",
              "    <tr style=\"text-align: right;\">\n",
              "      <th></th>\n",
              "      <th>count(1)</th>\n",
              "    </tr>\n",
              "  </thead>\n",
              "  <tbody>\n",
              "    <tr>\n",
              "      <th>0</th>\n",
              "      <td>7721</td>\n",
              "    </tr>\n",
              "  </tbody>\n",
              "</table>\n",
              "</div>"
            ]
          },
          "metadata": {}
        }
      ],
      "execution_count": 20,
      "metadata": {
        "collapsed": false,
        "outputHidden": false,
        "inputHidden": false
      }
    },
    {
      "cell_type": "markdown",
      "source": [
        "### Compare metrics for all users vs a segment of users"
      ],
      "metadata": {}
    },
    {
      "cell_type": "code",
      "source": [
        "q=\"\"\"\n",
        "with allusers AS ( \n",
        "select caldate adate, city,sum(qtysold) q, sum(pricepaid) p \n",
        "from salessnap group by caldate,city)\n",
        ",\n",
        "someusers AS (\n",
        "select caldate sdate,city, sum(qtysold) a, sum(pricepaid) b \n",
        "from salessnap where likeconcerts='TRUE' AND likejazz='TRUE' group by caldate,city)\n",
        "\n",
        "select adate,allusers.city, a, b, round(a/q,2)*100 qratio , round(b/p,2)*100 pratio\n",
        "from allusers, someusers where adate=sdate order by pratio desc limit 5000\n",
        "\"\"\"\n"
      ],
      "outputs": [],
      "execution_count": 25,
      "metadata": {
        "collapsed": false,
        "outputHidden": false,
        "inputHidden": false
      }
    },
    {
      "cell_type": "code",
      "source": [
        "df=sql(q)"
      ],
      "outputs": [],
      "execution_count": 26,
      "metadata": {
        "collapsed": false,
        "outputHidden": false,
        "inputHidden": false
      }
    },
    {
      "cell_type": "code",
      "source": [
        "df.columns"
      ],
      "outputs": [
        {
          "output_type": "execute_result",
          "execution_count": 27,
          "data": {
            "text/plain": [
              "Index([u'adate', u'city', u'a', u'b', u'qratio', u'pratio'], dtype='object')"
            ]
          },
          "metadata": {}
        }
      ],
      "execution_count": 27,
      "metadata": {
        "collapsed": false,
        "outputHidden": false,
        "inputHidden": false
      }
    },
    {
      "cell_type": "markdown",
      "source": [
        "### Combine results from SNAP with Pandas for descriptive analysis"
      ],
      "metadata": {}
    },
    {
      "cell_type": "code",
      "source": [
        "df[['a','b','qratio','pratio']].describe()"
      ],
      "outputs": [
        {
          "output_type": "execute_result",
          "execution_count": 28,
          "data": {
            "text/plain": [
              "                a       qratio\n",
              "count  5000.00000  5000.000000\n",
              "mean   3.08100     273.951600 \n",
              "std    1.32544     131.798955 \n",
              "min    1.00000     67.000000  \n",
              "25%    2.00000     200.000000 \n",
              "50%    3.00000     200.000000 \n",
              "75%    4.00000     400.000000 \n",
              "max    8.00000     800.000000 "
            ],
            "text/html": [
              "<div>\n",
              "<style>\n",
              "    .dataframe thead tr:only-child th {\n",
              "        text-align: right;\n",
              "    }\n",
              "\n",
              "    .dataframe thead th {\n",
              "        text-align: left;\n",
              "    }\n",
              "\n",
              "    .dataframe tbody tr th {\n",
              "        vertical-align: top;\n",
              "    }\n",
              "</style>\n",
              "<table border=\"1\" class=\"dataframe\">\n",
              "  <thead>\n",
              "    <tr style=\"text-align: right;\">\n",
              "      <th></th>\n",
              "      <th>a</th>\n",
              "      <th>qratio</th>\n",
              "    </tr>\n",
              "  </thead>\n",
              "  <tbody>\n",
              "    <tr>\n",
              "      <th>count</th>\n",
              "      <td>5000.00000</td>\n",
              "      <td>5000.000000</td>\n",
              "    </tr>\n",
              "    <tr>\n",
              "      <th>mean</th>\n",
              "      <td>3.08100</td>\n",
              "      <td>273.951600</td>\n",
              "    </tr>\n",
              "    <tr>\n",
              "      <th>std</th>\n",
              "      <td>1.32544</td>\n",
              "      <td>131.798955</td>\n",
              "    </tr>\n",
              "    <tr>\n",
              "      <th>min</th>\n",
              "      <td>1.00000</td>\n",
              "      <td>67.000000</td>\n",
              "    </tr>\n",
              "    <tr>\n",
              "      <th>25%</th>\n",
              "      <td>2.00000</td>\n",
              "      <td>200.000000</td>\n",
              "    </tr>\n",
              "    <tr>\n",
              "      <th>50%</th>\n",
              "      <td>3.00000</td>\n",
              "      <td>200.000000</td>\n",
              "    </tr>\n",
              "    <tr>\n",
              "      <th>75%</th>\n",
              "      <td>4.00000</td>\n",
              "      <td>400.000000</td>\n",
              "    </tr>\n",
              "    <tr>\n",
              "      <th>max</th>\n",
              "      <td>8.00000</td>\n",
              "      <td>800.000000</td>\n",
              "    </tr>\n",
              "  </tbody>\n",
              "</table>\n",
              "</div>"
            ]
          },
          "metadata": {}
        }
      ],
      "execution_count": 28,
      "metadata": {
        "collapsed": false,
        "outputHidden": false,
        "inputHidden": false
      }
    },
    {
      "cell_type": "code",
      "source": [],
      "outputs": [],
      "execution_count": null,
      "metadata": {
        "collapsed": false,
        "outputHidden": false,
        "inputHidden": false
      }
    }
  ],
  "metadata": {
    "kernelspec": {
      "name": "python2",
      "language": "python",
      "display_name": "Python 2"
    },
    "kernel_info": {
      "name": "python2"
    },
    "language_info": {
      "mimetype": "text/x-python",
      "nbconvert_exporter": "python",
      "name": "python",
      "pygments_lexer": "ipython2",
      "version": "2.7.13",
      "file_extension": ".py",
      "codemirror_mode": {
        "version": 2,
        "name": "ipython"
      }
    },
    "nteract": {
      "version": "0.3.4"
    }
  },
  "nbformat": 4,
  "nbformat_minor": 4
}